{
 "cells": [
  {
   "cell_type": "markdown",
   "metadata": {},
   "source": [
    "# 資料前處理(Label encoding、 One hot encoding)\n",
    "這兩個編碼方式的目的是為了將類別 (categorical)或是文字(text)的資料轉換成數字，而讓程式能夠更好的去理解及運算。\n",
    "> Label encoding : 把每個類別 mapping 到某個整數，不會增加新欄位\n",
    "\n",
    "> One hot encoding : 為每個類別新增一個欄位，用 0/1 表示是否\n",
    "\n",
    "![](images/Encoder.PNG)\n",
    "\n",
    "\n",
    "## Encoding Categorical features (or label)\n",
    "![](images/Encoding.PNG)\n"
   ]
  },
  {
   "cell_type": "code",
   "execution_count": 1,
   "metadata": {},
   "outputs": [],
   "source": [
    "import pandas as pd\n",
    "import numpy as np"
   ]
  },
  {
   "cell_type": "code",
   "execution_count": 2,
   "metadata": {},
   "outputs": [
    {
     "data": {
      "text/html": [
       "<div>\n",
       "<style scoped>\n",
       "    .dataframe tbody tr th:only-of-type {\n",
       "        vertical-align: middle;\n",
       "    }\n",
       "\n",
       "    .dataframe tbody tr th {\n",
       "        vertical-align: top;\n",
       "    }\n",
       "\n",
       "    .dataframe thead th {\n",
       "        text-align: right;\n",
       "    }\n",
       "</style>\n",
       "<table border=\"1\" class=\"dataframe\">\n",
       "  <thead>\n",
       "    <tr style=\"text-align: right;\">\n",
       "      <th></th>\n",
       "      <th>Y</th>\n",
       "      <th>Z</th>\n",
       "      <th>blood</th>\n",
       "    </tr>\n",
       "  </thead>\n",
       "  <tbody>\n",
       "    <tr>\n",
       "      <th>0</th>\n",
       "      <td>high</td>\n",
       "      <td>NaN</td>\n",
       "      <td>A</td>\n",
       "    </tr>\n",
       "    <tr>\n",
       "      <th>1</th>\n",
       "      <td>low</td>\n",
       "      <td>NaN</td>\n",
       "      <td>B</td>\n",
       "    </tr>\n",
       "    <tr>\n",
       "      <th>2</th>\n",
       "      <td>high</td>\n",
       "      <td>-1196.0</td>\n",
       "      <td>AB</td>\n",
       "    </tr>\n",
       "    <tr>\n",
       "      <th>3</th>\n",
       "      <td>mid</td>\n",
       "      <td>72.0</td>\n",
       "      <td>O</td>\n",
       "    </tr>\n",
       "    <tr>\n",
       "      <th>4</th>\n",
       "      <td>mid</td>\n",
       "      <td>83.0</td>\n",
       "      <td>B</td>\n",
       "    </tr>\n",
       "  </tbody>\n",
       "</table>\n",
       "</div>"
      ],
      "text/plain": [
       "      Y       Z blood\n",
       "0  high     NaN     A\n",
       "1   low     NaN     B\n",
       "2  high -1196.0    AB\n",
       "3   mid    72.0     O\n",
       "4   mid    83.0     B"
      ]
     },
     "execution_count": 2,
     "metadata": {},
     "output_type": "execute_result"
    }
   ],
   "source": [
    "df = pd.DataFrame({'blood':['A','B','AB','O','B'], \n",
    "                   'Y':['high','low','high','mid','mid'],\n",
    "                   'Z':[np.nan,np.nan,-1196,72,83]});\n",
    "df"
   ]
  },
  {
   "cell_type": "markdown",
   "metadata": {},
   "source": [
    "# 方法一：sklearn - label encoder + onehot encoder\n",
    ">onehot encoder要用2D array，若維度所以要用reshape(-1,1)<br>\n",
    ">onehot encoder要數字，若資料文文字要先用label encoder轉數字"
   ]
  },
  {
   "cell_type": "code",
   "execution_count": 4,
   "metadata": {},
   "outputs": [
    {
     "name": "stdout",
     "output_type": "stream",
     "text": [
      "[0 2 1 3 2]\n"
     ]
    },
    {
     "data": {
      "text/html": [
       "<div>\n",
       "<style scoped>\n",
       "    .dataframe tbody tr th:only-of-type {\n",
       "        vertical-align: middle;\n",
       "    }\n",
       "\n",
       "    .dataframe tbody tr th {\n",
       "        vertical-align: top;\n",
       "    }\n",
       "\n",
       "    .dataframe thead th {\n",
       "        text-align: right;\n",
       "    }\n",
       "</style>\n",
       "<table border=\"1\" class=\"dataframe\">\n",
       "  <thead>\n",
       "    <tr style=\"text-align: right;\">\n",
       "      <th></th>\n",
       "      <th>Y</th>\n",
       "      <th>Z</th>\n",
       "      <th>blood</th>\n",
       "      <th>blood_encoder</th>\n",
       "    </tr>\n",
       "  </thead>\n",
       "  <tbody>\n",
       "    <tr>\n",
       "      <th>0</th>\n",
       "      <td>high</td>\n",
       "      <td>NaN</td>\n",
       "      <td>A</td>\n",
       "      <td>0</td>\n",
       "    </tr>\n",
       "    <tr>\n",
       "      <th>1</th>\n",
       "      <td>low</td>\n",
       "      <td>NaN</td>\n",
       "      <td>B</td>\n",
       "      <td>2</td>\n",
       "    </tr>\n",
       "    <tr>\n",
       "      <th>2</th>\n",
       "      <td>high</td>\n",
       "      <td>-1196.0</td>\n",
       "      <td>AB</td>\n",
       "      <td>1</td>\n",
       "    </tr>\n",
       "    <tr>\n",
       "      <th>3</th>\n",
       "      <td>mid</td>\n",
       "      <td>72.0</td>\n",
       "      <td>O</td>\n",
       "      <td>3</td>\n",
       "    </tr>\n",
       "    <tr>\n",
       "      <th>4</th>\n",
       "      <td>mid</td>\n",
       "      <td>83.0</td>\n",
       "      <td>B</td>\n",
       "      <td>2</td>\n",
       "    </tr>\n",
       "  </tbody>\n",
       "</table>\n",
       "</div>"
      ],
      "text/plain": [
       "      Y       Z blood  blood_encoder\n",
       "0  high     NaN     A              0\n",
       "1   low     NaN     B              2\n",
       "2  high -1196.0    AB              1\n",
       "3   mid    72.0     O              3\n",
       "4   mid    83.0     B              2"
      ]
     },
     "execution_count": 4,
     "metadata": {},
     "output_type": "execute_result"
    }
   ],
   "source": [
    "from sklearn.preprocessing import LabelEncoder\n",
    "\n",
    "encoder = LabelEncoder()\n",
    "\n",
    "encoder_Y = encoder.fit_transform(df['blood'])\n",
    "\n",
    "print(encoder_Y)\n",
    "\n",
    "df['blood_encoder'] = encoder_Y\n",
    "\n",
    "df"
   ]
  },
  {
   "cell_type": "code",
   "execution_count": 5,
   "metadata": {},
   "outputs": [
    {
     "name": "stderr",
     "output_type": "stream",
     "text": [
      "/Users/maxn/opt/anaconda3/envs/statistic/lib/python3.5/site-packages/sklearn/preprocessing/_encoders.py:363: FutureWarning: The handling of integer data will change in version 0.22. Currently, the categories are determined based on the range [0, max(values)], while in the future they will be determined based on the unique values.\n",
      "If you want the future behaviour and silence this warning, you can specify \"categories='auto'\".\n",
      "In case you used a LabelEncoder before this OneHotEncoder to convert the categories to integers, then you can now use the OneHotEncoder directly.\n",
      "  warnings.warn(msg, FutureWarning)\n"
     ]
    },
    {
     "data": {
      "text/plain": [
       "array([[1., 0., 0., 0.],\n",
       "       [0., 0., 1., 0.],\n",
       "       [0., 1., 0., 0.],\n",
       "       [0., 0., 0., 1.],\n",
       "       [0., 0., 1., 0.]])"
      ]
     },
     "execution_count": 5,
     "metadata": {},
     "output_type": "execute_result"
    }
   ],
   "source": [
    "from sklearn.preprocessing import OneHotEncoder\n",
    "\n",
    "oneHot = OneHotEncoder()\n",
    "\n",
    "d = np.array(df['blood_encoder'])\n",
    "d.shape\n",
    "onehot_df = oneHot.fit_transform(d.reshape(-1, 1)).toarray()\n",
    "onehot_df"
   ]
  },
  {
   "cell_type": "code",
   "execution_count": 6,
   "metadata": {},
   "outputs": [
    {
     "data": {
      "text/plain": [
       "array([0, 2, 1, 3, 2])"
      ]
     },
     "execution_count": 6,
     "metadata": {},
     "output_type": "execute_result"
    }
   ],
   "source": [
    "d"
   ]
  },
  {
   "cell_type": "markdown",
   "metadata": {},
   "source": [
    "## One hot encoding\n",
    "One Hot encoding的編碼邏輯為將類別拆成多個行(column)，每個列中的數值由1、0替代，當某一列的資料存在的該行的類別則顯示1，反則顯示0。\n",
    "\n",
    "然在指定column進行編碼的情形下，One hot encoding<b>無法直接對字串進行編碼，必須先透過Label encoding將字串以數字取代後再進行One hot encoding處理。</b>\n",
    "\n",
    "> categorical_features = [0]: 表示欲在data上執行One hot encoding的index為0\n",
    "\n",
    "> data_le: 為經過Label encoding編碼的資料(註:OneHotEncoder的輸入要為2-D array，而Label encoding為1-D array)\n"
   ]
  },
  {
   "cell_type": "markdown",
   "metadata": {},
   "source": [
    "OneHotEncoder會轉出scipy.csr_matrix資料結構用.toarray()轉array\n",
    "從結果可以知道，數字0的column 代表的是A、數字1的column 代表的是B，而數字2的column 代表的是AB。\n",
    "除了轉換字串外，One hot encoding也可以轉換數字。在此處的data就不需要先經過Label encoding編碼\n",
    "\n",
    "```python\n",
    "# importing one hot encoder from sklearn \n",
    "# There are changes in OneHotEncoder class \n",
    "from sklearn.preprocessing import OneHotEncoder \n",
    "from sklearn.compose import ColumnTransformer \n",
    "   \n",
    "# creating one hot encoder object with categorical feature 0 \n",
    "# indicating the first column \n",
    "columnTransformer = ColumnTransformer([('encoder', \n",
    "                                        OneHotEncoder(), \n",
    "                                        [0])], \n",
    "                                      remainder='passthrough') \n",
    "  \n",
    "data = np.array(columnTransformer.fit_transform(data), dtype = str) \n",
    "```"
   ]
  },
  {
   "cell_type": "code",
   "execution_count": 9,
   "metadata": {},
   "outputs": [
    {
     "name": "stdout",
     "output_type": "stream",
     "text": [
      "ColumnTransformer(n_jobs=None, remainder='passthrough', sparse_threshold=0.3,\n",
      "         transformer_weights=None,\n",
      "         transformers=[('encoder', OneHotEncoder(categorical_features=None, categories=None,\n",
      "       dtype=<class 'numpy.float64'>, handle_unknown='error',\n",
      "       n_values=None, sparse=True), [0])])\n"
     ]
    }
   ],
   "source": [
    "# importing one hot encoder from sklearn \n",
    "# There are changes in OneHotEncoder class \n",
    "from sklearn.preprocessing import OneHotEncoder \n",
    "from sklearn.compose import ColumnTransformer \n",
    "\n",
    "# creating one hot encoder object with categorical feature 0 \n",
    "# indicating the first column \n",
    "columnTransformer = ColumnTransformer([('encoder', \n",
    "                                        OneHotEncoder(), \n",
    "                                        [0])], \n",
    "                                      remainder='passthrough') \n",
    "\n",
    "# print(columnTransformer)"
   ]
  },
  {
   "cell_type": "markdown",
   "metadata": {},
   "source": [
    "# 方法二：Keras - label encoder + to_categorical\n",
    ">to_categorical要數字，若資料文文字要先用label encoder轉數字"
   ]
  },
  {
   "cell_type": "code",
   "execution_count": 17,
   "metadata": {},
   "outputs": [
    {
     "name": "stdout",
     "output_type": "stream",
     "text": [
      "[0 2 1 3 2]\n"
     ]
    },
    {
     "data": {
      "text/plain": [
       "array([[1., 0., 0., 0.],\n",
       "       [0., 0., 1., 0.],\n",
       "       [0., 1., 0., 0.],\n",
       "       [0., 0., 0., 1.],\n",
       "       [0., 0., 1., 0.]], dtype=float32)"
      ]
     },
     "execution_count": 17,
     "metadata": {},
     "output_type": "execute_result"
    }
   ],
   "source": [
    "from sklearn.preprocessing import LabelEncoder\n",
    "from keras.utils import np_utils\n",
    "\n",
    "df = pd.DataFrame({'blood':['A','B','AB','O','B'], \n",
    "                   'Y':['high','low','high','mid','mid'],\n",
    "                   'Z':[np.nan,np.nan,-1196,72,83]});\n",
    "\n",
    "# label encoder \n",
    "encoder = LabelEncoder()\n",
    "encoder_Y = encoder.fit_transform(df['blood'])\n",
    "print(encoder_Y)\n",
    "df['blood'] = encoder_Y\n",
    "df\n",
    "# convert integers to one hot encoding\n",
    "keras_onehot = np_utils.to_categorical(df['blood'])\n",
    "\n",
    "keras_onehot\n",
    "\n"
   ]
  },
  {
   "cell_type": "markdown",
   "metadata": {},
   "source": [
    "## 方法三：pd.get_dummies方法\n",
    "![](images/Encoding_pd.PNG)\n",
    "pd.get_dummies(df)\n",
    ">get_dummies可以直接轉字串，反而無法轉換數字<br>\n",
    ">get_dummies沒指定columns，會全部轉換"
   ]
  },
  {
   "cell_type": "code",
   "execution_count": 18,
   "metadata": {},
   "outputs": [
    {
     "name": "stdout",
     "output_type": "stream",
     "text": [
      "        Z  Y_high  Y_low  Y_mid  blood_A  blood_AB  blood_B  blood_O\n",
      "0     NaN       1      0      0        1         0        0        0\n",
      "1     NaN       0      1      0        0         0        1        0\n",
      "2 -1196.0       1      0      0        0         1        0        0\n",
      "3    72.0       0      0      1        0         0        0        1\n",
      "4    83.0       0      0      1        0         0        1        0\n",
      "   A  AB  B  O\n",
      "0  1   0  0  0\n",
      "1  0   0  1  0\n",
      "2  0   1  0  0\n",
      "3  0   0  0  1\n",
      "4  0   0  1  0\n"
     ]
    }
   ],
   "source": [
    "df = pd.DataFrame({'blood':['A','B','AB','O','B'], \n",
    "                   'Y':['high','low','high','mid','mid'],\n",
    "                   'Z':[np.nan,np.nan,-1196,72,83]})\n",
    "\n",
    "df1 = pd.get_dummies(df)\n",
    "print(df1)\n",
    "\n",
    "df2 = pd.get_dummies(df.blood)\n",
    "print(df2)"
   ]
  },
  {
   "cell_type": "markdown",
   "metadata": {},
   "source": [
    "## 練習一：sklearn - label encoder + onehot encoder\n",
    "下面的資料可以看到country那欄皆為字串， 大部分的模型都是基於數學運算，字串無法套入數學模型進行運算，<br>\n",
    "在此先對其進行Label encoding編碼，我們從 sklearn library中導入 LabelEncoder class，對第一行資料進行fit及transform並取代之。"
   ]
  },
  {
   "cell_type": "code",
   "execution_count": 19,
   "metadata": {},
   "outputs": [
    {
     "name": "stderr",
     "output_type": "stream",
     "text": [
      "/Users/maxn/opt/anaconda3/envs/statistic/lib/python3.5/site-packages/sklearn/preprocessing/_encoders.py:363: FutureWarning: The handling of integer data will change in version 0.22. Currently, the categories are determined based on the range [0, max(values)], while in the future they will be determined based on the unique values.\n",
      "If you want the future behaviour and silence this warning, you can specify \"categories='auto'\".\n",
      "In case you used a LabelEncoder before this OneHotEncoder to convert the categories to integers, then you can now use the OneHotEncoder directly.\n",
      "  warnings.warn(msg, FutureWarning)\n"
     ]
    },
    {
     "data": {
      "text/plain": [
       "array([[0., 0., 1.],\n",
       "       [1., 0., 0.],\n",
       "       [0., 1., 0.],\n",
       "       [1., 0., 0.],\n",
       "       [0., 1., 0.],\n",
       "       [0., 0., 1.]])"
      ]
     },
     "execution_count": 19,
     "metadata": {},
     "output_type": "execute_result"
    }
   ],
   "source": [
    "import numpy as np\n",
    "import pandas as pd\n",
    "from sklearn.preprocessing import LabelEncoder\n",
    "from sklearn.preprocessing import OneHotEncoder\n",
    "\n",
    "country=['Taiwan','Australia','Ireland','Australia','Ireland','Taiwan']\n",
    "age=[25,30,45,35,22,36]\n",
    "salary=[20000,32000,59000,60000,43000,52000]\n",
    "dic={'Country':country,'Age':age,'Salary':salary}\n",
    "data=pd.DataFrame(dic)\n",
    "data\n",
    "\n",
    "encoder = LabelEncoder()\n",
    "\n",
    "data['Country'] = encoder.fit_transform(data['Country'])\n",
    "\n",
    "data\n",
    "\n",
    "oneHot = OneHotEncoder()\n",
    "\n",
    "oneHot.fit_transform(np.array(data['Country']).reshape(-1, 1)).toarray()"
   ]
  },
  {
   "cell_type": "markdown",
   "metadata": {},
   "source": [
    "## 練習二：Keras - label encoder + to_categorical"
   ]
  },
  {
   "cell_type": "code",
   "execution_count": 23,
   "metadata": {},
   "outputs": [
    {
     "name": "stdout",
     "output_type": "stream",
     "text": [
      "[2 0 1 0 1 2]\n"
     ]
    },
    {
     "data": {
      "text/plain": [
       "array([[0., 0., 1.],\n",
       "       [1., 0., 0.],\n",
       "       [0., 1., 0.],\n",
       "       [1., 0., 0.],\n",
       "       [0., 1., 0.],\n",
       "       [0., 0., 1.]], dtype=float32)"
      ]
     },
     "execution_count": 23,
     "metadata": {},
     "output_type": "execute_result"
    }
   ],
   "source": [
    "from sklearn.preprocessing import LabelEncoder\n",
    "from keras.utils import np_utils\n",
    "\n",
    "country=['Taiwan','Australia','Ireland','Australia','Ireland','Taiwan']\n",
    "age=[25,30,45,35,22,36]\n",
    "salary=[20000,32000,59000,60000,43000,52000]\n",
    "dic={'Country':country,'Age':age,'Salary':salary}\n",
    "data=pd.DataFrame(dic)\n",
    "data\n",
    "\n",
    "# label encoder \n",
    "encoder = LabelEncoder()\n",
    "encoder_C = encoder.fit_transform(data['Country'])\n",
    "print(encoder_C)\n",
    "data['Country'] = encoder_C\n",
    "data\n",
    "# convert integers to one hot encoding\n",
    "keras_onehot = np_utils.to_categorical(data['Country'])\n",
    "\n",
    "keras_onehot\n",
    "\n"
   ]
  },
  {
   "cell_type": "markdown",
   "metadata": {},
   "source": [
    "## 練習三：Pandas.get_dummies\n",
    ">　get_dummies : 僅能將字串轉換為One hot encoding表示形式， 沒指定columns會全部轉換。"
   ]
  },
  {
   "cell_type": "code",
   "execution_count": 24,
   "metadata": {},
   "outputs": [
    {
     "name": "stdout",
     "output_type": "stream",
     "text": [
      "   Age  Salary  Country_Australia  Country_Ireland  Country_Taiwan\n",
      "0   25   20000                  0                0               1\n",
      "1   30   32000                  1                0               0\n",
      "2   45   59000                  0                1               0\n",
      "3   35   60000                  1                0               0\n",
      "4   22   43000                  0                1               0\n",
      "5   36   52000                  0                0               1\n",
      "   Australia  Ireland  Taiwan\n",
      "0          0        0       1\n",
      "1          1        0       0\n",
      "2          0        1       0\n",
      "3          1        0       0\n",
      "4          0        1       0\n",
      "5          0        0       1\n"
     ]
    }
   ],
   "source": [
    "country=['Taiwan','Australia','Ireland','Australia','Ireland','Taiwan']\n",
    "age=[25,30,45,35,22,36]\n",
    "salary=[20000,32000,59000,60000,43000,52000]\n",
    "dic={'Country':country,'Age':age,'Salary':salary}\n",
    "data=pd.DataFrame(dic)\n",
    "data\n",
    "\n",
    "df1 = pd.get_dummies(data)\n",
    "print(df1)\n",
    "\n",
    "\n",
    "df2 = pd.get_dummies(data['Country'])\n",
    "print(df2)"
   ]
  },
  {
   "cell_type": "code",
   "execution_count": null,
   "metadata": {},
   "outputs": [],
   "source": []
  }
 ],
 "metadata": {
  "kernelspec": {
   "display_name": "Python 3",
   "language": "python",
   "name": "python3"
  },
  "language_info": {
   "codemirror_mode": {
    "name": "ipython",
    "version": 3
   },
   "file_extension": ".py",
   "mimetype": "text/x-python",
   "name": "python",
   "nbconvert_exporter": "python",
   "pygments_lexer": "ipython3",
   "version": "3.5.6"
  }
 },
 "nbformat": 4,
 "nbformat_minor": 4
}
